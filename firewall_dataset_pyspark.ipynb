{
  "nbformat": 4,
  "nbformat_minor": 0,
  "metadata": {
    "colab": {
      "name": "firewall_dataset_pyspark.ipynb",
      "provenance": [],
      "collapsed_sections": [],
      "authorship_tag": "ABX9TyOHqDFf+H9cZAIhhONLSyFJ",
      "include_colab_link": true
    },
    "kernelspec": {
      "name": "python3",
      "display_name": "Python 3"
    },
    "language_info": {
      "name": "python"
    }
  },
  "cells": [
    {
      "cell_type": "markdown",
      "metadata": {
        "id": "view-in-github",
        "colab_type": "text"
      },
      "source": [
        "<a href=\"https://colab.research.google.com/github/aeliza73/homework-0/blob/master/firewall_dataset_pyspark.ipynb\" target=\"_parent\"><img src=\"https://colab.research.google.com/assets/colab-badge.svg\" alt=\"Open In Colab\"/></a>"
      ]
    },
    {
      "cell_type": "code",
      "metadata": {
        "colab": {
          "base_uri": "https://localhost:8080/"
        },
        "id": "KDkpFH1SdCtX",
        "outputId": "e0743852-df2e-4e0f-e405-8a33b7b4989a"
      },
      "source": [
        "# To access Google Drive\n",
        "from google.colab import drive\n",
        "\n",
        "drive.mount('/content/drive') "
      ],
      "execution_count": 2,
      "outputs": [
        {
          "output_type": "stream",
          "text": [
            "Mounted at /content/drive\n"
          ],
          "name": "stdout"
        }
      ]
    },
    {
      "cell_type": "code",
      "metadata": {
        "colab": {
          "base_uri": "https://localhost:8080/"
        },
        "id": "pjmxEP_aVOgL",
        "outputId": "90cb7a8e-5a98-4f85-f545-ce1e2c9a3bda"
      },
      "source": [
        "!wget http://archive.ics.uci.edu/ml/machine-learning-databases/00542/log2.csv\n",
        "!ls"
      ],
      "execution_count": 3,
      "outputs": [
        {
          "output_type": "stream",
          "text": [
            "--2021-06-24 11:14:36--  http://archive.ics.uci.edu/ml/machine-learning-databases/00542/log2.csv\n",
            "Resolving archive.ics.uci.edu (archive.ics.uci.edu)... 128.195.10.252\n",
            "Connecting to archive.ics.uci.edu (archive.ics.uci.edu)|128.195.10.252|:80... connected.\n",
            "HTTP request sent, awaiting response... 200 OK\n",
            "Length: 2876998 (2.7M) [application/x-httpd-php]\n",
            "Saving to: ‘log2.csv’\n",
            "\n",
            "log2.csv            100%[===================>]   2.74M  4.68MB/s    in 0.6s    \n",
            "\n",
            "2021-06-24 11:14:36 (4.68 MB/s) - ‘log2.csv’ saved [2876998/2876998]\n",
            "\n",
            "drive  log2.csv  sample_data\n"
          ],
          "name": "stdout"
        }
      ]
    },
    {
      "cell_type": "code",
      "metadata": {
        "colab": {
          "base_uri": "https://localhost:8080/"
        },
        "id": "YoixHNrvWK1h",
        "outputId": "7205918f-2a32-4078-a2ab-9694e08c21c4"
      },
      "source": [
        "!head log2.csv"
      ],
      "execution_count": 4,
      "outputs": [
        {
          "output_type": "stream",
          "text": [
            "Source Port,Destination Port,NAT Source Port,NAT Destination Port,Action,Bytes,Bytes Sent,Bytes Received,Packets,Elapsed Time (sec),pkts_sent,pkts_received\r\n",
            "57222,53,54587,53,allow,177,94,83,2,30,1,1\r\n",
            "56258,3389,56258,3389,allow,4768,1600,3168,19,17,10,9\r\n",
            "6881,50321,43265,50321,allow,238,118,120,2,1199,1,1\r\n",
            "50553,3389,50553,3389,allow,3327,1438,1889,15,17,8,7\r\n",
            "50002,443,45848,443,allow,25358,6778,18580,31,16,13,18\r\n",
            "51465,443,39975,443,allow,3961,1595,2366,21,16,12,9\r\n",
            "60513,47094,45469,47094,allow,320,140,180,6,7,3,3\r\n",
            "50049,443,21285,443,allow,7912,3269,4643,23,96,12,11\r\n",
            "52244,58774,2211,58774,allow,70,70,0,1,5,1,0\r\n"
          ],
          "name": "stdout"
        }
      ]
    },
    {
      "cell_type": "code",
      "metadata": {
        "id": "lCINMkXxbMYx",
        "colab": {
          "base_uri": "https://localhost:8080/",
          "height": 34
        },
        "outputId": "19ede080-e4eb-4b00-d72e-f1e4c152dea5"
      },
      "source": [
        "# Spark is written in  Scala and needs JVM - download Java\n",
        "!apt-get install openjdk-8-jdk-headless -qq > /dev/null\n",
        "\n",
        "# Install Apache Spark 3.1.2 with Hadoop 3.2\n",
        "!wget -q https://downloads.apache.org/spark/spark-3.1.2/spark-3.1.2-bin-hadoop3.2.tgz\n",
        "!tar xf spark-3.1.2-bin-hadoop3.2.tgz # extract the gzipped tarball\n",
        "\n",
        "# Install findspark - provides findspark.init() to make pyspark importable as a regular library\n",
        "!pip install -q findspark\n",
        "\n",
        "# Set the environment path\n",
        "import os\n",
        "os.environ[\"JAVA_HOME\"] = \"/usr/lib/jvm/java-8-openjdk-amd64\"\n",
        "os.environ[\"SPARK_HOME\"] = \"/content/spark-3.1.2-bin-hadoop3.2\"\n",
        "\n",
        "# Make pyspark importable\n",
        "import findspark \n",
        "findspark.init()\n",
        "findspark.find()  # where is Spark ?"
      ],
      "execution_count": 5,
      "outputs": [
        {
          "output_type": "execute_result",
          "data": {
            "application/vnd.google.colaboratory.intrinsic+json": {
              "type": "string"
            },
            "text/plain": [
              "'/content/spark-3.1.2-bin-hadoop3.2'"
            ]
          },
          "metadata": {
            "tags": []
          },
          "execution_count": 5
        }
      ]
    },
    {
      "cell_type": "code",
      "metadata": {
        "id": "hW-AvPV9VsYC"
      },
      "source": [
        "from pyspark.sql import SparkSession #, SQLContext, Row\n",
        "\n",
        "spark = SparkSession.builder.appName('firewall').getOrCreate()\n",
        "data_file = 'log2.csv'"
      ],
      "execution_count": 14,
      "outputs": []
    },
    {
      "cell_type": "code",
      "metadata": {
        "colab": {
          "base_uri": "https://localhost:8080/",
          "height": 218
        },
        "id": "_lllFQhcuCVY",
        "outputId": "2fcb7706-d1f3-4e9b-ec19-024712ef1276"
      },
      "source": [
        "spark"
      ],
      "execution_count": 15,
      "outputs": [
        {
          "output_type": "execute_result",
          "data": {
            "text/html": [
              "\n",
              "            <div>\n",
              "                <p><b>SparkSession - in-memory</b></p>\n",
              "                \n",
              "        <div>\n",
              "            <p><b>SparkContext</b></p>\n",
              "\n",
              "            <p><a href=\"http://ff0f20b2290f:4040\">Spark UI</a></p>\n",
              "\n",
              "            <dl>\n",
              "              <dt>Version</dt>\n",
              "                <dd><code>v3.1.2</code></dd>\n",
              "              <dt>Master</dt>\n",
              "                <dd><code>local[*]</code></dd>\n",
              "              <dt>AppName</dt>\n",
              "                <dd><code>firewall</code></dd>\n",
              "            </dl>\n",
              "        </div>\n",
              "        \n",
              "            </div>\n",
              "        "
            ],
            "text/plain": [
              "<pyspark.sql.session.SparkSession at 0x7f0d74f7cd50>"
            ]
          },
          "metadata": {
            "tags": []
          },
          "execution_count": 15
        }
      ]
    },
    {
      "cell_type": "code",
      "metadata": {
        "id": "y_jma36DuUEj"
      },
      "source": [
        "df = spark.read.csv('log2.csv', header='true', inferSchema='true')"
      ],
      "execution_count": 16,
      "outputs": []
    },
    {
      "cell_type": "code",
      "metadata": {
        "colab": {
          "base_uri": "https://localhost:8080/"
        },
        "id": "i5uZvOSBwZRa",
        "outputId": "4173e381-3f2b-4987-a9f4-ecf89348bbe0"
      },
      "source": [
        "df.printSchema()"
      ],
      "execution_count": 9,
      "outputs": [
        {
          "output_type": "stream",
          "text": [
            "root\n",
            " |-- Source Port: integer (nullable = true)\n",
            " |-- Destination Port: integer (nullable = true)\n",
            " |-- NAT Source Port: integer (nullable = true)\n",
            " |-- NAT Destination Port: integer (nullable = true)\n",
            " |-- Action: string (nullable = true)\n",
            " |-- Bytes: integer (nullable = true)\n",
            " |-- Bytes Sent: integer (nullable = true)\n",
            " |-- Bytes Received: integer (nullable = true)\n",
            " |-- Packets: integer (nullable = true)\n",
            " |-- Elapsed Time (sec): integer (nullable = true)\n",
            " |-- pkts_sent: integer (nullable = true)\n",
            " |-- pkts_received: integer (nullable = true)\n",
            "\n"
          ],
          "name": "stdout"
        }
      ]
    },
    {
      "cell_type": "code",
      "metadata": {
        "colab": {
          "base_uri": "https://localhost:8080/"
        },
        "id": "ZF9wFEH4wv-I",
        "outputId": "3ddd36db-f4c8-4ad3-e70e-72bf66f79ef7"
      },
      "source": [
        "df.show(10)"
      ],
      "execution_count": 17,
      "outputs": [
        {
          "output_type": "stream",
          "text": [
            "+-----------+----------------+---------------+--------------------+------+-----+----------+--------------+-------+------------------+---------+-------------+\n",
            "|Source Port|Destination Port|NAT Source Port|NAT Destination Port|Action|Bytes|Bytes Sent|Bytes Received|Packets|Elapsed Time (sec)|pkts_sent|pkts_received|\n",
            "+-----------+----------------+---------------+--------------------+------+-----+----------+--------------+-------+------------------+---------+-------------+\n",
            "|      57222|              53|          54587|                  53| allow|  177|        94|            83|      2|                30|        1|            1|\n",
            "|      56258|            3389|          56258|                3389| allow| 4768|      1600|          3168|     19|                17|       10|            9|\n",
            "|       6881|           50321|          43265|               50321| allow|  238|       118|           120|      2|              1199|        1|            1|\n",
            "|      50553|            3389|          50553|                3389| allow| 3327|      1438|          1889|     15|                17|        8|            7|\n",
            "|      50002|             443|          45848|                 443| allow|25358|      6778|         18580|     31|                16|       13|           18|\n",
            "|      51465|             443|          39975|                 443| allow| 3961|      1595|          2366|     21|                16|       12|            9|\n",
            "|      60513|           47094|          45469|               47094| allow|  320|       140|           180|      6|                 7|        3|            3|\n",
            "|      50049|             443|          21285|                 443| allow| 7912|      3269|          4643|     23|                96|       12|           11|\n",
            "|      52244|           58774|           2211|               58774| allow|   70|        70|             0|      1|                 5|        1|            0|\n",
            "|      50627|             443|          16215|                 443| allow| 8256|      1674|          6582|     31|                75|       15|           16|\n",
            "+-----------+----------------+---------------+--------------------+------+-----+----------+--------------+-------+------------------+---------+-------------+\n",
            "only showing top 10 rows\n",
            "\n"
          ],
          "name": "stdout"
        }
      ]
    },
    {
      "cell_type": "code",
      "metadata": {
        "colab": {
          "base_uri": "https://localhost:8080/"
        },
        "id": "q5MlcdW9w7MX",
        "outputId": "fb223de4-274c-4572-c373-f498def14d57"
      },
      "source": [
        "df.count()"
      ],
      "execution_count": null,
      "outputs": [
        {
          "output_type": "execute_result",
          "data": {
            "text/plain": [
              "65532"
            ]
          },
          "metadata": {
            "tags": []
          },
          "execution_count": 14
        }
      ]
    },
    {
      "cell_type": "code",
      "metadata": {
        "colab": {
          "base_uri": "https://localhost:8080/"
        },
        "id": "p45wYQtGxCjd",
        "outputId": "9e369c25-6e62-4598-a129-789a60a120c9"
      },
      "source": [
        "df.describe().show()"
      ],
      "execution_count": null,
      "outputs": [
        {
          "output_type": "stream",
          "text": [
            "+-------+------------------+------------------+------------------+--------------------+----------+-----------------+-----------------+----------------+------------------+------------------+------------------+------------------+\n",
            "|summary|       Source Port|  Destination Port|   NAT Source Port|NAT Destination Port|    Action|            Bytes|       Bytes Sent|  Bytes Received|           Packets|Elapsed Time (sec)|         pkts_sent|     pkts_received|\n",
            "+-------+------------------+------------------+------------------+--------------------+----------+-----------------+-----------------+----------------+------------------+------------------+------------------+------------------+\n",
            "|  count|             65532|             65532|             65532|               65532|     65532|            65532|            65532|           65532|             65532|             65532|             65532|             65532|\n",
            "|   mean| 49391.96934322163|10577.385811511933| 19282.97276139901|   2671.049929805286|      null|97123.95008545443|22385.79690838064|74738.1531770738|102.86603491424037|  65.8335774888604| 41.39953000061039| 61.46650491362998|\n",
            "| stddev|15255.712536991758| 18466.02703924022|21970.689668711093|   9739.162278210468|      null|5618438.909050997|3828138.649787505|2463207.71188369| 5133.002346122796|302.46176230092317|3218.8712880794565|2223.3322714436863|\n",
            "|    min|                 0|                 0|                 0|                   0|     allow|               60|               60|               0|                 1|                 0|                 1|                 0|\n",
            "|    max|             65534|             65535|             65535|               65535|reset-both|       1269359015|        948477220|       320881795|           1036116|             10824|            747520|            327208|\n",
            "+-------+------------------+------------------+------------------+--------------------+----------+-----------------+-----------------+----------------+------------------+------------------+------------------+------------------+\n",
            "\n"
          ],
          "name": "stdout"
        }
      ]
    },
    {
      "cell_type": "code",
      "metadata": {
        "colab": {
          "base_uri": "https://localhost:8080/"
        },
        "id": "AWdjkkFWxdie",
        "outputId": "a8538f26-7c84-487a-b57a-93499b9f1f09"
      },
      "source": [
        "df.select('Action').distinct().show()"
      ],
      "execution_count": 11,
      "outputs": [
        {
          "output_type": "stream",
          "text": [
            "+----------+\n",
            "|    Action|\n",
            "+----------+\n",
            "|     allow|\n",
            "|      deny|\n",
            "|      drop|\n",
            "|reset-both|\n",
            "+----------+\n",
            "\n"
          ],
          "name": "stdout"
        }
      ]
    },
    {
      "cell_type": "code",
      "metadata": {
        "id": "ag3rjArjVDq3",
        "colab": {
          "base_uri": "https://localhost:8080/"
        },
        "outputId": "a1f87248-098d-4425-8d2b-b40c2c84a97c"
      },
      "source": [
        "print(type(df))"
      ],
      "execution_count": 12,
      "outputs": [
        {
          "output_type": "stream",
          "text": [
            "<class 'pyspark.sql.dataframe.DataFrame'>\n"
          ],
          "name": "stdout"
        }
      ]
    },
    {
      "cell_type": "code",
      "metadata": {
        "id": "hEfREEzdgT5E",
        "colab": {
          "base_uri": "https://localhost:8080/"
        },
        "outputId": "908cc78e-368b-4891-c09a-afb44fda73bb"
      },
      "source": [
        "df.groupBy('Action').count().orderBy('count', ascending=False).show()"
      ],
      "execution_count": 21,
      "outputs": [
        {
          "output_type": "stream",
          "text": [
            "+----------+-----+\n",
            "|    Action|count|\n",
            "+----------+-----+\n",
            "|     allow|37640|\n",
            "|      deny|14987|\n",
            "|      drop|12851|\n",
            "|reset-both|   54|\n",
            "+----------+-----+\n",
            "\n"
          ],
          "name": "stdout"
        }
      ]
    },
    {
      "cell_type": "code",
      "metadata": {
        "colab": {
          "base_uri": "https://localhost:8080/"
        },
        "id": "7xRJEPcU9U7J",
        "outputId": "1fd21d3f-f8f6-41e6-be7d-5da7c0d5859a"
      },
      "source": [
        "df.groupBy('Action').sum('Bytes').show()"
      ],
      "execution_count": 22,
      "outputs": [
        {
          "output_type": "stream",
          "text": [
            "+----------+----------+\n",
            "|    Action|sum(Bytes)|\n",
            "+----------+----------+\n",
            "|     allow|6362588560|\n",
            "|      deny|   1247094|\n",
            "|      drop|    882546|\n",
            "|reset-both|      8497|\n",
            "+----------+----------+\n",
            "\n"
          ],
          "name": "stdout"
        }
      ]
    },
    {
      "cell_type": "code",
      "metadata": {
        "colab": {
          "base_uri": "https://localhost:8080/"
        },
        "id": "Kl1YRbr--ndP",
        "outputId": "3a9ade83-a43a-4d84-d7b8-6b731a20f5cf"
      },
      "source": [
        "#from pyspark.sql.functions import sum\n",
        "from pyspark.sql import functions as f\n",
        "\n",
        "df.groupBy('Action').agg(f.sum('Bytes').alias('total_bytes')).show()"
      ],
      "execution_count": 29,
      "outputs": [
        {
          "output_type": "stream",
          "text": [
            "+----------+-----------+\n",
            "|    Action|total_bytes|\n",
            "+----------+-----------+\n",
            "|     allow| 6362588560|\n",
            "|      deny|    1247094|\n",
            "|      drop|     882546|\n",
            "|reset-both|       8497|\n",
            "+----------+-----------+\n",
            "\n"
          ],
          "name": "stdout"
        }
      ]
    },
    {
      "cell_type": "code",
      "metadata": {
        "colab": {
          "base_uri": "https://localhost:8080/"
        },
        "id": "Urhye5u6_xuy",
        "outputId": "f75bba73-437e-4496-c412-016ddf38fee8"
      },
      "source": [
        "df.groupBy('Action').sum('Bytes').withColumnRenamed('sum(Bytes)', 'total_bytes').show()"
      ],
      "execution_count": 26,
      "outputs": [
        {
          "output_type": "stream",
          "text": [
            "+----------+-----------+\n",
            "|    Action|total_bytes|\n",
            "+----------+-----------+\n",
            "|     allow| 6362588560|\n",
            "|      deny|    1247094|\n",
            "|      drop|     882546|\n",
            "|reset-both|       8497|\n",
            "+----------+-----------+\n",
            "\n"
          ],
          "name": "stdout"
        }
      ]
    },
    {
      "cell_type": "code",
      "metadata": {
        "colab": {
          "base_uri": "https://localhost:8080/"
        },
        "id": "ip10ZVnLBGMr",
        "outputId": "829ae118-fce1-48b4-82e6-c7b708d729c3"
      },
      "source": [
        "df.groupBy('Action').sum('Bytes').select(f.col('Action'), f.col('sum(Bytes)').alias('total_bytes')).show()"
      ],
      "execution_count": 30,
      "outputs": [
        {
          "output_type": "stream",
          "text": [
            "+----------+-----------+\n",
            "|    Action|total_bytes|\n",
            "+----------+-----------+\n",
            "|     allow| 6362588560|\n",
            "|      deny|    1247094|\n",
            "|      drop|     882546|\n",
            "|reset-both|       8497|\n",
            "+----------+-----------+\n",
            "\n"
          ],
          "name": "stdout"
        }
      ]
    },
    {
      "cell_type": "code",
      "metadata": {
        "colab": {
          "base_uri": "https://localhost:8080/"
        },
        "id": "DOBLc3egCcid",
        "outputId": "03d96bb3-f8dc-4fe1-81a8-9ba3596feada"
      },
      "source": [
        "df.createOrReplaceTempView('FW')\n",
        "spark.sql('select Action, sum(Bytes) as total_bytes from FW group by Action').show()"
      ],
      "execution_count": 31,
      "outputs": [
        {
          "output_type": "stream",
          "text": [
            "+----------+-----------+\n",
            "|    Action|total_bytes|\n",
            "+----------+-----------+\n",
            "|     allow| 6362588560|\n",
            "|      deny|    1247094|\n",
            "|      drop|     882546|\n",
            "|reset-both|       8497|\n",
            "+----------+-----------+\n",
            "\n"
          ],
          "name": "stdout"
        }
      ]
    },
    {
      "cell_type": "code",
      "metadata": {
        "id": "KZ6gjDEh647U"
      },
      "source": [
        "from pyspark.sql import functions as F"
      ],
      "execution_count": null,
      "outputs": []
    },
    {
      "cell_type": "code",
      "metadata": {
        "colab": {
          "base_uri": "https://localhost:8080/"
        },
        "id": "bFzNQw8FflUx",
        "outputId": "9bd2ceef-e014-4e28-e165-aa7d7f602e48"
      },
      "source": [
        "!ls\n"
      ],
      "execution_count": null,
      "outputs": [
        {
          "output_type": "stream",
          "text": [
            "drive  sample_data  spark-3.1.2-bin-hadoop3.2  spark-3.1.2-bin-hadoop3.2.tgz\n"
          ],
          "name": "stdout"
        }
      ]
    }
  ]
}